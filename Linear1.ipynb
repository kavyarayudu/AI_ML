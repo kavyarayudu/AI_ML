{
  "nbformat": 4,
  "nbformat_minor": 0,
  "metadata": {
    "colab": {
      "name": "Linear1.ipynb",
      "provenance": [],
      "authorship_tag": "ABX9TyP5awsQbAqvScU5nurJTmSM",
      "include_colab_link": true
    },
    "kernelspec": {
      "name": "python3",
      "display_name": "Python 3"
    }
  },
  "cells": [
    {
      "cell_type": "markdown",
      "metadata": {
        "id": "view-in-github",
        "colab_type": "text"
      },
      "source": [
        "<a href=\"https://colab.research.google.com/github/kavyarayudu/AI_ML/blob/master/Linear1.ipynb\" target=\"_parent\"><img src=\"https://colab.research.google.com/assets/colab-badge.svg\" alt=\"Open In Colab\"/></a>"
      ]
    },
    {
      "cell_type": "code",
      "metadata": {
        "id": "qIsP-4_qA-kr",
        "colab_type": "code",
        "colab": {}
      },
      "source": [
        "import numpy as np\n",
        "x=np.array([1,2,3,4,5])\n",
        "y=np.array([2,4,5,4,5])\n"
      ],
      "execution_count": 0,
      "outputs": []
    },
    {
      "cell_type": "code",
      "metadata": {
        "id": "w5XqW2wZREBy",
        "colab_type": "code",
        "colab": {
          "base_uri": "https://localhost:8080/",
          "height": 51
        },
        "outputId": "aab1e159-f72f-40c9-f57a-8cdf79d7238d"
      },
      "source": [
        "mean_x=np.mean(x)\n",
        "mean_y=np.mean(y)\n",
        "print(mean_x)\n",
        "print(mean_y)"
      ],
      "execution_count": 6,
      "outputs": [
        {
          "output_type": "stream",
          "text": [
            "3.0\n",
            "4.0\n"
          ],
          "name": "stdout"
        }
      ]
    },
    {
      "cell_type": "code",
      "metadata": {
        "id": "qr81pZ4uRjaX",
        "colab_type": "code",
        "colab": {
          "base_uri": "https://localhost:8080/",
          "height": 34
        },
        "outputId": "2e6939c6-497f-4881-c930-9e6a254d781f"
      },
      "source": [
        "n=len(x)\n",
        "print(n)"
      ],
      "execution_count": 4,
      "outputs": [
        {
          "output_type": "stream",
          "text": [
            "5\n"
          ],
          "name": "stdout"
        }
      ]
    },
    {
      "cell_type": "code",
      "metadata": {
        "id": "sEop2kHRR8ST",
        "colab_type": "code",
        "colab": {
          "base_uri": "https://localhost:8080/",
          "height": 51
        },
        "outputId": "6130ab7c-dcb2-439b-f1da-a61f3088b135"
      },
      "source": [
        "num=0\n",
        "denom=0\n",
        "for i in range(n):\n",
        "  num=num+(x[i]-mean_x)*(y[i]-mean_y)\n",
        "  denom=denom+(x[i]-mean_x)**2\n",
        "print(num)\n",
        "print(denom)"
      ],
      "execution_count": 8,
      "outputs": [
        {
          "output_type": "stream",
          "text": [
            "6.0\n",
            "10.0\n"
          ],
          "name": "stdout"
        }
      ]
    },
    {
      "cell_type": "code",
      "metadata": {
        "id": "9QP_6dvRTKxn",
        "colab_type": "code",
        "colab": {
          "base_uri": "https://localhost:8080/",
          "height": 51
        },
        "outputId": "e82f86cd-4ea6-4816-e5b0-244cb981602f"
      },
      "source": [
        "m_slope=num/denom\n",
        "c_intercept=mean_y-(m_slope*mean_x)\n",
        "print(\"Slope=\",m_slope)\n",
        "print(\"Intercept=\",c_intercept)"
      ],
      "execution_count": 11,
      "outputs": [
        {
          "output_type": "stream",
          "text": [
            "Slope= 0.6\n",
            "Intercept= 2.2\n"
          ],
          "name": "stdout"
        }
      ]
    },
    {
      "cell_type": "code",
      "metadata": {
        "id": "YGZFcyijVLTM",
        "colab_type": "code",
        "colab": {
          "base_uri": "https://localhost:8080/",
          "height": 34
        },
        "outputId": "499dae10-6165-45e6-a2d1-f0c5a978f8bf"
      },
      "source": [
        "min_x=np.min(x)\n",
        "max_y=np.max(y)\n",
        "print(min_x,max_y)"
      ],
      "execution_count": 14,
      "outputs": [
        {
          "output_type": "stream",
          "text": [
            "1 5\n"
          ],
          "name": "stdout"
        }
      ]
    },
    {
      "cell_type": "code",
      "metadata": {
        "id": "1EQH1DXnVevn",
        "colab_type": "code",
        "colab": {
          "base_uri": "https://localhost:8080/",
          "height": 34
        },
        "outputId": "e1218e99-3c27-4245-9a83-5c457fd242fc"
      },
      "source": [
        "\n",
        "l=[]\n",
        "for i in range(n):\n",
        "  y_pred=m_slope*x[i]+c_intercept\n",
        "  l.append(y_pred)\n",
        "print(l)\n",
        "p=np.array(l)\n"
      ],
      "execution_count": 19,
      "outputs": [
        {
          "output_type": "stream",
          "text": [
            "[2.8000000000000003, 3.4000000000000004, 4.0, 4.6, 5.2]\n"
          ],
          "name": "stdout"
        }
      ]
    },
    {
      "cell_type": "code",
      "metadata": {
        "id": "t62ntqTTX3Ds",
        "colab_type": "code",
        "colab": {
          "base_uri": "https://localhost:8080/",
          "height": 282
        },
        "outputId": "27327a0d-03e9-4423-fff4-26c86e719ccb"
      },
      "source": [
        "import matplotlib.pyplot as plt\n",
        "plt.plot(x,p)\n",
        "plt.scatter(x,y)"
      ],
      "execution_count": 20,
      "outputs": [
        {
          "output_type": "execute_result",
          "data": {
            "text/plain": [
              "<matplotlib.collections.PathCollection at 0x7facd4fc4860>"
            ]
          },
          "metadata": {
            "tags": []
          },
          "execution_count": 20
        },
        {
          "output_type": "display_data",
          "data": {
            "image/png": "[encoded data removed]",
            "text/plain": [
              "<Figure size 432x288 with 1 Axes>"
            ]
          },
          "metadata": {
            "tags": []
          }
        }
      ]
    },
    {
      "cell_type": "code",
      "metadata": {
        "id": "A1muyNE6YwVH",
        "colab_type": "code",
        "colab": {
          "base_uri": "https://localhost:8080/",
          "height": 68
        },
        "outputId": "3ff91b16-c2be-4e94-ba4e-a91789737b41"
      },
      "source": [
        "n1=0\n",
        "n2=0\n",
        "n3=0\n",
        "for i in range(n):\n",
        "  n1=n1+(y[i]-mean_y)**2\n",
        "  n2=n2+(p[i]-mean_y)**2\n",
        "  n3=n3+(p[i]-y[i])**2\n",
        "print(n1)\n",
        "print(n2)\n",
        "print(n3)"
      ],
      "execution_count": 21,
      "outputs": [
        {
          "output_type": "stream",
          "text": [
            "6.0\n",
            "3.5999999999999988\n",
            "2.3999999999999995\n"
          ],
          "name": "stdout"
        }
      ]
    },
    {
      "cell_type": "code",
      "metadata": {
        "id": "RfdUFUIXa0sg",
        "colab_type": "code",
        "colab": {
          "base_uri": "https://localhost:8080/",
          "height": 34
        },
        "outputId": "e9132b48-b7a8-4594-a4b8-d456581a2057"
      },
      "source": [
        "RR=n2/n1\n",
        "print(\"R_square=\",RR)"
      ],
      "execution_count": 22,
      "outputs": [
        {
          "output_type": "stream",
          "text": [
            "R_square= 0.5999999999999998\n"
          ],
          "name": "stdout"
        }
      ]
    },
    {
      "cell_type": "code",
      "metadata": {
        "id": "63gu3zhrb1qg",
        "colab_type": "code",
        "colab": {
          "base_uri": "https://localhost:8080/",
          "height": 34
        },
        "outputId": "4e6fc194-28e9-45bf-d044-a5e83619657e"
      },
      "source": [
        "for i in range(n):\n",
        "  stderr=np.sqrt(n3/(n-2))\n",
        "print(stderr)"
      ],
      "execution_count": 24,
      "outputs": [
        {
          "output_type": "stream",
          "text": [
            "0.8944271909999157\n"
          ],
          "name": "stdout"
        }
      ]
    }
  ]
}